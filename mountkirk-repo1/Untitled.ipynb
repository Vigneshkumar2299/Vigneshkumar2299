{
 "cells": [
  {
   "cell_type": "code",
   "execution_count": 2,
   "id": "dba5bf77",
   "metadata": {},
   "outputs": [
    {
     "name": "stdout",
     "output_type": "stream",
     "text": [
      "Enter employee name: A\n",
      "Enter id: 1\n",
      "Enter job roll: AA\n",
      "Enter qualification: AAA\n",
      "Enter Salary: 111\n"
     ]
    }
   ],
   "source": [
    "import json\n",
    "\n",
    "def get_employeedetails():\n",
    "    data={}\n",
    "    data['name']=input(\"Enter employee name: \")\n",
    "    data['id']=input(\"Enter id: \")\n",
    "    data['roll']=input(\"Enter job roll: \")\n",
    "    data['qualification']=input(\"Enter qualification: \")\n",
    "    data['salary']=input(\"Enter Salary: \")\n",
    "    return (data)\n",
    "out=[]\n",
    "#while True:\n",
    "    #quit=input(\"Enter Y/N to continue\")\n",
    "   # if quit.lower() == 'n':\n",
    "  #      break\n",
    "record = get_employeedetails()\n",
    "out.append(record)\n",
    "\n",
    "with open('employee-details.json','w') as file:\n",
    "    json.dump(out,file,indent=2)"
   ]
  },
  {
   "cell_type": "code",
   "execution_count": null,
   "id": "904ba125",
   "metadata": {},
   "outputs": [],
   "source": []
  }
 ],
 "metadata": {
  "kernelspec": {
   "display_name": "Python 3 (ipykernel)",
   "language": "python",
   "name": "python3"
  },
  "language_info": {
   "codemirror_mode": {
    "name": "ipython",
    "version": 3
   },
   "file_extension": ".py",
   "mimetype": "text/x-python",
   "name": "python",
   "nbconvert_exporter": "python",
   "pygments_lexer": "ipython3",
   "version": "3.9.12"
  }
 },
 "nbformat": 4,
 "nbformat_minor": 5
}
